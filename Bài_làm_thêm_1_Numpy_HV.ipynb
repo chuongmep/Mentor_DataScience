{
  "nbformat": 4,
  "nbformat_minor": 0,
  "metadata": {
    "kernelspec": {
      "name": "python394jvsc74a57bd018e4f442c8b5f494edf5d7db2abffae3c23212e4e9c379fc8641e774757ed936",
      "display_name": "Python 3.9.4 64-bit (windows store)"
    },
    "language_info": {
      "codemirror_mode": {
        "name": "ipython",
        "version": 3
      },
      "file_extension": ".py",
      "mimetype": "text/x-python",
      "name": "python",
      "nbconvert_exporter": "python",
      "pygments_lexer": "ipython3",
      "version": "3.9.4"
    },
    "colab": {
      "name": "Bài làm thêm 1 - Numpy-HV.ipynb",
      "provenance": [],
      "collapsed_sections": []
    },
    "metadata": {
      "interpreter": {
        "hash": "18e4f442c8b5f494edf5d7db2abffae3c23212e4e9c379fc8641e774757ed936"
      }
    }
  },
  "cells": [
    {
      "cell_type": "markdown",
      "metadata": {
        "id": "ydCQ7cGw_zrw"
      },
      "source": [
        "# Bài làm thêm 1 - Numpy\n",
        "\n"
      ]
    },
    {
      "cell_type": "code",
      "metadata": {
        "id": "K3fwpSqY_zr2"
      },
      "source": [
        "import numpy as np"
      ],
      "execution_count": 313,
      "outputs": []
    },
    {
      "cell_type": "code",
      "metadata": {
        "id": "ywRJ-7pM_zsb"
      },
      "source": [
        "#1. Tạo mảng ngẫu nhiên 10 phần tử số nguyên từ 10-29\n",
        "np.random.seed(2)\n",
        "arr1 =np.random.randint(10,30,size=10)\n",
        "arr1"
      ],
      "execution_count": 314,
      "outputs": [
        {
          "output_type": "execute_result",
          "data": {
            "text/plain": [
              "array([18, 25, 23, 18, 21, 28, 21, 18, 17, 12])"
            ]
          },
          "metadata": {},
          "execution_count": 314
        }
      ]
    },
    {
      "cell_type": "markdown",
      "metadata": {
        "id": "YoeFlgdD_zs7"
      },
      "source": [
        "<details>\n",
        "  <summary>Nhấn vào đây để xem kết quả !</summary>\n",
        "  \n",
        "  <pre>array([18, 25, 23, 18, 21, 28, 21, 18, 17, 12])\n",
        "</pre>\n",
        "\n",
        "</details>"
      ]
    },
    {
      "cell_type": "code",
      "metadata": {
        "id": "3e7T-IPc_ztA"
      },
      "source": [
        "#2. Cho biết kiểu dữ liệu các phần tử của arr1\n",
        "arr1.dtype\n"
      ],
      "execution_count": 315,
      "outputs": [
        {
          "output_type": "execute_result",
          "data": {
            "text/plain": [
              "dtype('int32')"
            ]
          },
          "metadata": {},
          "execution_count": 315
        }
      ]
    },
    {
      "cell_type": "markdown",
      "metadata": {
        "id": "qr_FFiUP_ztk"
      },
      "source": [
        "<details>\n",
        "  <summary>Nhấn vào đây để xem kết quả !</summary>\n",
        "  \n",
        "  <pre>dtype('int32')\n",
        "</pre>\n",
        "\n",
        "</details>"
      ]
    },
    {
      "cell_type": "code",
      "metadata": {
        "id": "oRi09KBI_ztm"
      },
      "source": [
        "#3. Cho biết dung lượng bộ nhớ của mảng arr1\n",
        "arr1.nbytes\n"
      ],
      "execution_count": 316,
      "outputs": [
        {
          "output_type": "execute_result",
          "data": {
            "text/plain": [
              "40"
            ]
          },
          "metadata": {},
          "execution_count": 316
        }
      ]
    },
    {
      "cell_type": "markdown",
      "metadata": {
        "id": "q5lKpi47_zt5"
      },
      "source": [
        "<details>\n",
        "  <summary>Nhấn vào đây để xem kết quả !</summary>\n",
        "  \n",
        "  <pre>40\n",
        "</pre>\n",
        "\n",
        "</details>"
      ]
    },
    {
      "cell_type": "code",
      "metadata": {
        "id": "b1HbPgAd_zuM"
      },
      "source": [
        "#4. Tạo mảng arr2 là mảng arr1 nhưng có các giá trị chia hết cho 3 được thay bằng -1\n",
        "arr2 = np.where(arr1 % 3==0,-1,arr1)\n",
        "arr2\n"
      ],
      "execution_count": 317,
      "outputs": [
        {
          "output_type": "execute_result",
          "data": {
            "text/plain": [
              "array([-1, 25, 23, -1, -1, 28, -1, -1, 17, -1])"
            ]
          },
          "metadata": {},
          "execution_count": 317
        }
      ]
    },
    {
      "cell_type": "markdown",
      "metadata": {
        "id": "JUSR9ZUG_zuo"
      },
      "source": [
        "<details>\n",
        "  <summary>Nhấn vào đây để xem kết quả !</summary>\n",
        "  \n",
        "  <pre>array([-1, 25, 23, -1, -1, 28, -1, -1, 17, -1])\n",
        "</pre>\n",
        "\n",
        "</details>"
      ]
    },
    {
      "cell_type": "code",
      "metadata": {
        "id": "LuQY4h8w_zuq"
      },
      "source": [
        "#5. Phát sinh mảng arr3 ngẫu nhiên 10 phần tử số nguyên từ 15-35\n",
        "np.random.seed(3)\n",
        "arr3 = np.random.randint(15,36,10)\n",
        "print(arr3)"
      ],
      "execution_count": 318,
      "outputs": [
        {
          "output_type": "stream",
          "name": "stdout",
          "text": [
            "[25 18 23 15 34 25 26 24 25 21]\n"
          ]
        }
      ]
    },
    {
      "cell_type": "markdown",
      "metadata": {
        "id": "X2hAYpdN_zva"
      },
      "source": [
        "<details>\n",
        "  <summary>Nhấn vào đây để xem kết quả !</summary>\n",
        "  \n",
        "  <pre>array([25, 18, 23, 15, 34, 25, 26, 24, 25, 21])\n",
        "</pre>\n",
        "\n",
        "</details>"
      ]
    },
    {
      "cell_type": "code",
      "metadata": {
        "id": "gVPr0nAo_zve"
      },
      "source": [
        "#6.  Liệt kê ra các phần tử giống nhau trong arr1 và arr3\n",
        "print(arr1)\n",
        "print(arr3)\n",
        "np.intersect1d(arr1,arr3)"
      ],
      "execution_count": 319,
      "outputs": [
        {
          "output_type": "stream",
          "name": "stdout",
          "text": [
            "[18 25 23 18 21 28 21 18 17 12]\n[25 18 23 15 34 25 26 24 25 21]\n"
          ]
        },
        {
          "output_type": "execute_result",
          "data": {
            "text/plain": [
              "array([18, 21, 23, 25])"
            ]
          },
          "metadata": {},
          "execution_count": 319
        }
      ]
    },
    {
      "source": [
        "<details>\n",
        "  <summary>Nhấn vào đây để xem kết quả !</summary>\n",
        "  \n",
        "  <pre>array([23])\n",
        "</pre>\n",
        "\n",
        "</details>"
      ],
      "cell_type": "markdown",
      "metadata": {
        "id": "pf5ZBS8y_zvv"
      }
    },
    {
      "cell_type": "code",
      "metadata": {
        "id": "LFCnnyUw_zvx"
      },
      "source": [
        "#7. Tạo mảng arr4 là mảng arr1 nhưng có 2 dòng, 5 cột \n",
        "arr4 = arr1.reshape(2,5)\n",
        "arr4"
      ],
      "execution_count": 320,
      "outputs": [
        {
          "output_type": "execute_result",
          "data": {
            "text/plain": [
              "array([[18, 25, 23, 18, 21],\n",
              "       [28, 21, 18, 17, 12]])"
            ]
          },
          "metadata": {},
          "execution_count": 320
        }
      ]
    },
    {
      "cell_type": "markdown",
      "metadata": {
        "id": "66NdNqNW_zwQ"
      },
      "source": [
        "<details>\n",
        "  <summary>Nhấn vào đây để xem kết quả !</summary>\n",
        "  \n",
        "  <pre>array([[18, 25, 23, 18, 21],\n",
        "       [28, 21, 18, 17, 12]])\n",
        "</pre>\n",
        "\n",
        "</details>"
      ]
    },
    {
      "cell_type": "code",
      "metadata": {
        "id": "2DvBAbRT_zwZ"
      },
      "source": [
        "#8. Hoán đổi 2 dòng của mảng arr4\n",
        "np.flip(arr4,0)"
      ],
      "execution_count": 321,
      "outputs": [
        {
          "output_type": "execute_result",
          "data": {
            "text/plain": [
              "array([[28, 21, 18, 17, 12],\n",
              "       [18, 25, 23, 18, 21]])"
            ]
          },
          "metadata": {},
          "execution_count": 321
        }
      ]
    },
    {
      "cell_type": "markdown",
      "metadata": {
        "id": "2o5tCupI_zwl"
      },
      "source": [
        "<details>\n",
        "  <summary>Nhấn vào đây để xem kết quả !</summary>\n",
        "  \n",
        "  <pre>array([[28, 21, 18, 17, 12],\n",
        "       [18, 25, 23, 18, 21]])\n",
        "</pre>\n",
        "\n",
        "</details>"
      ]
    },
    {
      "cell_type": "code",
      "metadata": {
        "id": "Zap7PgU-_zww"
      },
      "source": [
        "#8. Hoán đổi cột 1 và cột 3 của mảng arr4\n",
        "\n",
        "arr4 = arr4[:,[2,1,0,3,4]]\n",
        "arr4"
      ],
      "execution_count": 322,
      "outputs": [
        {
          "output_type": "execute_result",
          "data": {
            "text/plain": [
              "array([[23, 25, 18, 18, 21],\n",
              "       [18, 21, 28, 17, 12]])"
            ]
          },
          "metadata": {},
          "execution_count": 322
        }
      ]
    },
    {
      "cell_type": "markdown",
      "metadata": {
        "id": "LFfCNDlf_zxH"
      },
      "source": [
        "<details>\n",
        "  <summary>Nhấn vào đây để xem kết quả !</summary>\n",
        "  \n",
        "  <pre>Trước khi hoán đổi: \n",
        " [[18 25 23 18 21]\n",
        " [28 21 18 17 12]]\n",
        "Sau khi hoán đổi: \n",
        " [[23 25 18 18 21]\n",
        " [18 21 28 17 12]]\n",
        "</pre>\n",
        "\n",
        "</details>"
      ]
    },
    {
      "cell_type": "code",
      "metadata": {
        "id": "AapIsDVX_zxL"
      },
      "source": [
        "#9. Tạo mảng arr5 kích thước 8x8 với giá trị bên trong là 0 và các giá trị biên là 1\n",
        "arr5 = np.zeros([8,8])\n",
        "arr5[:,0] = arr5[7,:] =arr5[0,:] =arr5[:,7] = 1\n",
        "arr5"
      ],
      "execution_count": 323,
      "outputs": [
        {
          "output_type": "execute_result",
          "data": {
            "text/plain": [
              "array([[1., 1., 1., 1., 1., 1., 1., 1.],\n",
              "       [1., 0., 0., 0., 0., 0., 0., 1.],\n",
              "       [1., 0., 0., 0., 0., 0., 0., 1.],\n",
              "       [1., 0., 0., 0., 0., 0., 0., 1.],\n",
              "       [1., 0., 0., 0., 0., 0., 0., 1.],\n",
              "       [1., 0., 0., 0., 0., 0., 0., 1.],\n",
              "       [1., 0., 0., 0., 0., 0., 0., 1.],\n",
              "       [1., 1., 1., 1., 1., 1., 1., 1.]])"
            ]
          },
          "metadata": {},
          "execution_count": 323
        }
      ]
    },
    {
      "cell_type": "markdown",
      "metadata": {
        "id": "XwWay1R7_zxd"
      },
      "source": [
        "<details>\n",
        "  <summary>Nhấn vào đây để xem kết quả !</summary>\n",
        "  \n",
        "  <pre>[[1 1 1 1 1 1 1]\n",
        " [1 0 0 0 0 0 1]\n",
        " [1 0 0 0 0 0 1]\n",
        " [1 0 0 0 0 0 1]\n",
        " [1 0 0 0 0 0 1]\n",
        " [1 0 0 0 0 0 1]\n",
        " [1 1 1 1 1 1 1]]\n",
        "</pre>\n",
        "\n",
        "</details>"
      ]
    },
    {
      "cell_type": "code",
      "metadata": {
        "id": "-YVCPnBC_zxf"
      },
      "source": [
        "#10. Cộng thêm 3 vào các phần tử của mảng arr5\n",
        "arr5 = np.add(arr5,3)\n",
        "arr5"
      ],
      "execution_count": 324,
      "outputs": [
        {
          "output_type": "execute_result",
          "data": {
            "text/plain": [
              "array([[4., 4., 4., 4., 4., 4., 4., 4.],\n",
              "       [4., 3., 3., 3., 3., 3., 3., 4.],\n",
              "       [4., 3., 3., 3., 3., 3., 3., 4.],\n",
              "       [4., 3., 3., 3., 3., 3., 3., 4.],\n",
              "       [4., 3., 3., 3., 3., 3., 3., 4.],\n",
              "       [4., 3., 3., 3., 3., 3., 3., 4.],\n",
              "       [4., 3., 3., 3., 3., 3., 3., 4.],\n",
              "       [4., 4., 4., 4., 4., 4., 4., 4.]])"
            ]
          },
          "metadata": {},
          "execution_count": 324
        }
      ]
    },
    {
      "cell_type": "markdown",
      "metadata": {
        "id": "JvBhcFLs_zxt"
      },
      "source": [
        "<details>\n",
        "  <summary>Nhấn vào đây để xem kết quả !</summary>\n",
        "  \n",
        "  <pre>array([[4, 4, 4, 4, 4, 4, 4],\n",
        "       [4, 3, 3, 3, 3, 3, 4],\n",
        "       [4, 3, 3, 3, 3, 3, 4],\n",
        "       [4, 3, 3, 3, 3, 3, 4],\n",
        "       [4, 3, 3, 3, 3, 3, 4],\n",
        "       [4, 3, 3, 3, 3, 3, 4],\n",
        "       [4, 4, 4, 4, 4, 4, 4]])\n",
        "</pre>\n",
        "\n",
        "</details>"
      ]
    },
    {
      "cell_type": "code",
      "metadata": {
        "id": "nHlj__s__zxw"
      },
      "source": [
        "#11. Tạo mảng arr6 là mảng 1 chiều của mảng arr5\n",
        "arr6 = arr5.flatten()\n",
        "arr6"
      ],
      "execution_count": 325,
      "outputs": [
        {
          "output_type": "execute_result",
          "data": {
            "text/plain": [
              "array([4., 4., 4., 4., 4., 4., 4., 4., 4., 3., 3., 3., 3., 3., 3., 4., 4.,\n",
              "       3., 3., 3., 3., 3., 3., 4., 4., 3., 3., 3., 3., 3., 3., 4., 4., 3.,\n",
              "       3., 3., 3., 3., 3., 4., 4., 3., 3., 3., 3., 3., 3., 4., 4., 3., 3.,\n",
              "       3., 3., 3., 3., 4., 4., 4., 4., 4., 4., 4., 4., 4.])"
            ]
          },
          "metadata": {},
          "execution_count": 325
        }
      ]
    },
    {
      "cell_type": "markdown",
      "metadata": {
        "id": "hUdmAC1j_zyT"
      },
      "source": [
        "<details>\n",
        "  <summary>Nhấn vào đây để xem kết quả !</summary>\n",
        "  \n",
        "  <pre>array([4, 4, 4, 4, 4, 4, 4, 4, 3, 3, 3, 3, 3, 4, 4, 3, 3, 3, 3, 3, 4, 4,\n",
        "       3, 3, 3, 3, 3, 4, 4, 3, 3, 3, 3, 3, 4, 4, 3, 3, 3, 3, 3, 4, 4, 4,\n",
        "       4, 4, 4, 4, 4])\n",
        "</pre>\n",
        "\n",
        "</details>"
      ]
    },
    {
      "cell_type": "code",
      "metadata": {
        "id": "Oj3FKGC6_zyW"
      },
      "source": [
        "#12. Tạo mảng arr7 là 5 phần tử ngẫu nhiên từ arr3\n",
        "np.random.seed(8)\n",
        "arr7 = np.random.choice(arr3,5)\n",
        "arr7"
      ],
      "execution_count": 326,
      "outputs": [
        {
          "output_type": "execute_result",
          "data": {
            "text/plain": [
              "array([15, 34, 18, 21, 25])"
            ]
          },
          "metadata": {},
          "execution_count": 326
        }
      ]
    },
    {
      "cell_type": "markdown",
      "metadata": {
        "id": "IO1ER0Ju_zzW"
      },
      "source": [
        "<details>\n",
        "  <summary>Nhấn vào đây để xem kết quả !</summary>\n",
        "  \n",
        "  <pre>array([15, 34, 18, 21, 25])\n",
        "</pre>\n",
        "\n",
        "</details>"
      ]
    },
    {
      "cell_type": "markdown",
      "metadata": {
        "id": "HcCnHAGS_zzb"
      },
      "source": [
        "#### Part 2 - Đọc dữ liệu và tính toán thống kê"
      ]
    },
    {
      "cell_type": "code",
      "metadata": {
        "id": "js_aje47_zzj"
      },
      "source": [
        "#1. Đọc dữ liệu từ tập tin shark.tsv (dữ liệu số vụ cá mập tấn công các tháng của 3 quốc gia USA,Australia,South Africa)\n",
        "# và đưa vào mảng shark (Gợi ý: sử dụng hàm np.genfromtxt)\n",
        "shark = np.genfromtxt(fname=\"shark.tsv\",delimiter=\"\\t\", skip_header=1,filling_values=-1)\n",
        "shark\n"
      ],
      "execution_count": 327,
      "outputs": [
        {
          "output_type": "execute_result",
          "data": {
            "text/plain": [
              "array([[ -1.,  28.,  94.,  68.],\n",
              "       [ -1.,  27.,  78.,  32.],\n",
              "       [ -1.,  66.,  63.,  34.],\n",
              "       [ -1., 103.,  54.,  25.],\n",
              "       [ -1., 106.,  21.,  25.],\n",
              "       [ -1., 173.,  25.,  22.],\n",
              "       [ -1., 232.,  25.,  28.],\n",
              "       [ -1., 208.,  28.,  15.],\n",
              "       [ -1., 182.,  35.,  17.],\n",
              "       [ -1., 141.,  56.,  16.],\n",
              "       [ -1.,  79.,  65.,  20.],\n",
              "       [ -1.,  37.,  94.,  46.]])"
            ]
          },
          "metadata": {},
          "execution_count": 327
        }
      ]
    },
    {
      "cell_type": "markdown",
      "metadata": {
        "id": "d1MMFLAK_z0K"
      },
      "source": [
        "<details>\n",
        "  <summary>Nhấn vào đây để xem kết quả !</summary>\n",
        "  \n",
        "  <pre>array([[ -1,  28,  94,  68],\n",
        "       [ -1,  27,  78,  32],\n",
        "       [ -1,  66,  63,  34],\n",
        "       [ -1, 103,  54,  25],\n",
        "       [ -1, 106,  21,  25],\n",
        "       [ -1, 173,  25,  22],\n",
        "       [ -1, 232,  25,  28],\n",
        "       [ -1, 208,  28,  15],\n",
        "       [ -1, 182,  35,  17],\n",
        "       [ -1, 141,  56,  16],\n",
        "       [ -1,  79,  65,  20],\n",
        "       [ -1,  37,  94,  46]])\n",
        "</pre>\n",
        "\n",
        "</details>"
      ]
    },
    {
      "cell_type": "code",
      "metadata": {
        "id": "cZi3vUFa_z0Y"
      },
      "source": [
        "#2. Cho biết số phần tử mỗi chiều của mảng\n",
        "shark.shape\n"
      ],
      "execution_count": 328,
      "outputs": [
        {
          "output_type": "execute_result",
          "data": {
            "text/plain": [
              "(12, 4)"
            ]
          },
          "metadata": {},
          "execution_count": 328
        }
      ]
    },
    {
      "source": [
        "<details>\n",
        "  <summary>Nhấn vào đây để xem kết quả !</summary>\n",
        "  \n",
        "  <pre>(12, 4)\n",
        "</pre>\n",
        "\n",
        "</details>"
      ],
      "cell_type": "markdown",
      "metadata": {
        "id": "jF1zCpuz_z1A"
      }
    },
    {
      "cell_type": "code",
      "metadata": {
        "id": "aCNh2J_r_z1M"
      },
      "source": [
        "#3. Thay cột 1 (giá trị -1) bằng giá trị tương ứng các tháng trong năm 1-12\n",
        "mounth = np.arange(1,13)\n",
        "shark[:,0] = mounth\n",
        "shark"
      ],
      "execution_count": 329,
      "outputs": [
        {
          "output_type": "execute_result",
          "data": {
            "text/plain": [
              "array([[  1.,  28.,  94.,  68.],\n",
              "       [  2.,  27.,  78.,  32.],\n",
              "       [  3.,  66.,  63.,  34.],\n",
              "       [  4., 103.,  54.,  25.],\n",
              "       [  5., 106.,  21.,  25.],\n",
              "       [  6., 173.,  25.,  22.],\n",
              "       [  7., 232.,  25.,  28.],\n",
              "       [  8., 208.,  28.,  15.],\n",
              "       [  9., 182.,  35.,  17.],\n",
              "       [ 10., 141.,  56.,  16.],\n",
              "       [ 11.,  79.,  65.,  20.],\n",
              "       [ 12.,  37.,  94.,  46.]])"
            ]
          },
          "metadata": {},
          "execution_count": 329
        }
      ]
    },
    {
      "cell_type": "markdown",
      "metadata": {
        "id": "nkouIiuf_z1y"
      },
      "source": [
        "<details>\n",
        "  <summary>Nhấn vào đây để xem kết quả !</summary>\n",
        "  \n",
        "  <pre>array([[  1,  28,  94,  68],\n",
        "       [  2,  27,  78,  32],\n",
        "       [  3,  66,  63,  34],\n",
        "       [  4, 103,  54,  25],\n",
        "       [  5, 106,  21,  25],\n",
        "       [  6, 173,  25,  22],\n",
        "       [  7, 232,  25,  28],\n",
        "       [  8, 208,  28,  15],\n",
        "       [  9, 182,  35,  17],\n",
        "       [ 10, 141,  56,  16],\n",
        "       [ 11,  79,  65,  20],\n",
        "       [ 12,  37,  94,  46]])\n",
        "</pre>\n",
        "\n",
        "</details>"
      ]
    },
    {
      "cell_type": "code",
      "metadata": {
        "id": "N1yW2POD_z15"
      },
      "source": [
        "#4. Hiển thị số vụ cá mập tấn công trung bình của 3 quốc gia\n",
        "np.mean(shark[:,1:],axis=0)\n"
      ],
      "execution_count": 330,
      "outputs": [
        {
          "output_type": "execute_result",
          "data": {
            "text/plain": [
              "array([115.16666667,  53.16666667,  29.        ])"
            ]
          },
          "metadata": {},
          "execution_count": 330
        }
      ]
    },
    {
      "cell_type": "markdown",
      "metadata": {
        "id": "i1uvcJc7_z2V"
      },
      "source": [
        "<details>\n",
        "  <summary>Nhấn vào đây để xem kết quả !</summary>\n",
        "  \n",
        "  <pre>array([115.16666667,  53.16666667,  29.        ])\n",
        "</pre>\n",
        "\n",
        "</details>"
      ]
    },
    {
      "cell_type": "code",
      "metadata": {
        "id": "71IVEorE_z2b"
      },
      "source": [
        "#5. Hiển thị số vụ cá mập tấn công trung bình của mỗi tháng  \n",
        "np.mean(shark[:,1:],axis=1)"
      ],
      "execution_count": 332,
      "outputs": [
        {
          "output_type": "execute_result",
          "data": {
            "text/plain": [
              "array([63.33333333, 45.66666667, 54.33333333, 60.66666667, 50.66666667,\n",
              "       73.33333333, 95.        , 83.66666667, 78.        , 71.        ,\n",
              "       54.66666667, 59.        ])"
            ]
          },
          "metadata": {},
          "execution_count": 332
        }
      ]
    },
    {
      "cell_type": "markdown",
      "metadata": {
        "id": "eWadsSWe_z2x"
      },
      "source": [
        "<details>\n",
        "  <summary>Nhấn vào đây để xem kết quả !</summary>\n",
        "  \n",
        "  <pre>array([63.33333333, 45.66666667, 54.33333333, 60.66666667, 50.66666667,\n",
        "       73.33333333, 95.        , 83.66666667, 78.        , 71.        ,\n",
        "       54.66666667, 59.        ])\n",
        "</pre>\n",
        "\n",
        "</details>"
      ]
    },
    {
      "cell_type": "code",
      "metadata": {
        "id": "qWC2vxK1_z2z"
      },
      "source": [
        "#6. Tạo thêm cột tổng số vụ cá mập tấn công theo mỗi tháng\n",
        "total = np.sum(shark[:,1:],1)\n",
        "total.shape\n",
        "np.insert(shark,len(shark[0]),total,axis=1)\n",
        "\n"
      ],
      "execution_count": 353,
      "outputs": [
        {
          "output_type": "execute_result",
          "data": {
            "text/plain": [
              "array([[  1.,  28.,  94.,  68., 190.],\n",
              "       [  2.,  27.,  78.,  32., 137.],\n",
              "       [  3.,  66.,  63.,  34., 163.],\n",
              "       [  4., 103.,  54.,  25., 182.],\n",
              "       [  5., 106.,  21.,  25., 152.],\n",
              "       [  6., 173.,  25.,  22., 220.],\n",
              "       [  7., 232.,  25.,  28., 285.],\n",
              "       [  8., 208.,  28.,  15., 251.],\n",
              "       [  9., 182.,  35.,  17., 234.],\n",
              "       [ 10., 141.,  56.,  16., 213.],\n",
              "       [ 11.,  79.,  65.,  20., 164.],\n",
              "       [ 12.,  37.,  94.,  46., 177.]])"
            ]
          },
          "metadata": {},
          "execution_count": 353
        }
      ]
    },
    {
      "source": [
        "<details>\n",
        "  <summary>Nhấn vào đây để xem kết quả !</summary>\n",
        "  \n",
        "  <pre>array([[  1,  28,  94,  68, 190],\n",
        "       [  2,  27,  78,  32, 137],\n",
        "       [  3,  66,  63,  34, 163],\n",
        "       [  4, 103,  54,  25, 182],\n",
        "       [  5, 106,  21,  25, 152],\n",
        "       [  6, 173,  25,  22, 220],\n",
        "       [  7, 232,  25,  28, 285],\n",
        "       [  8, 208,  28,  15, 251],\n",
        "       [  9, 182,  35,  17, 234],\n",
        "       [ 10, 141,  56,  16, 213],\n",
        "       [ 11,  79,  65,  20, 164],\n",
        "       [ 12,  37,  94,  46, 177]])\n",
        "</pre>\n",
        "\n",
        "</details>"
      ],
      "cell_type": "markdown",
      "metadata": {
        "id": "QFEbOB7I_z3F"
      }
    },
    {
      "cell_type": "code",
      "metadata": {
        "id": "bqUp3K0X_z3H"
      },
      "source": [
        "#7. Cho biết những tháng có tổng số vụ cá mập tấn công >200\n"
      ],
      "execution_count": null,
      "outputs": []
    },
    {
      "cell_type": "markdown",
      "metadata": {
        "id": "vCFU4BfL_z3o"
      },
      "source": [
        "<details>\n",
        "  <summary>Nhấn vào đây để xem kết quả !</summary>\n",
        "  \n",
        "  <pre>array([[  6, 173,  25,  22, 220],\n",
        "       [  7, 232,  25,  28, 285],\n",
        "       [  8, 208,  28,  15, 251],\n",
        "       [  9, 182,  35,  17, 234],\n",
        "       [ 10, 141,  56,  16, 213]])\n",
        "</pre>\n",
        "\n",
        "</details>"
      ]
    },
    {
      "cell_type": "code",
      "metadata": {
        "id": "O9s2G0B3_z3v"
      },
      "source": [
        "#8. Cho biết tổng số vụ cá mập tấn công nhiều nhất trong tháng là bao nhiêu\n"
      ],
      "execution_count": null,
      "outputs": []
    },
    {
      "cell_type": "markdown",
      "metadata": {
        "id": "giEpDNsp_z4C"
      },
      "source": [
        "<details>\n",
        "  <summary>Nhấn vào đây để xem kết quả !</summary>\n",
        "  \n",
        "  <pre>285\n",
        "</pre>\n",
        "\n",
        "</details>"
      ]
    },
    {
      "cell_type": "code",
      "metadata": {
        "id": "PNUieu5a_z4E"
      },
      "source": [
        "#9. Cho biết tháng nào có tổng số vụ cá mập tấn công nhiều nhất\n"
      ],
      "execution_count": null,
      "outputs": []
    },
    {
      "cell_type": "markdown",
      "metadata": {
        "id": "GVtBUdND_z4g"
      },
      "source": [
        "<details>\n",
        "  <summary>Nhấn vào đây để xem kết quả !</summary>\n",
        "  \n",
        "  <pre>Tháng có tổng số vụ cá mập tấn công nhiều nhất là tháng : 7\n",
        "</pre>\n",
        "\n",
        "</details>"
      ]
    },
    {
      "cell_type": "code",
      "metadata": {
        "id": "6lCkSWH9_z4j"
      },
      "source": [],
      "execution_count": null,
      "outputs": []
    }
  ]
}